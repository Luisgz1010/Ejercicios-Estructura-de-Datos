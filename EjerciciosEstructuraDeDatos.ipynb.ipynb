{
  "nbformat": 4,
  "nbformat_minor": 0,
  "metadata": {
    "colab": {
      "provenance": []
    },
    "kernelspec": {
      "name": "python3",
      "display_name": "Python 3"
    },
    "language_info": {
      "name": "python"
    }
  },
  "cells": [
    {
      "cell_type": "markdown",
      "source": [
        "Ejercicios Estrucutura De Datos I"
      ],
      "metadata": {
        "id": "BylzohpG7nLp"
      }
    },
    {
      "cell_type": "markdown",
      "source": [
        "1. Area y perimetro de un Cuadrado"
      ],
      "metadata": {
        "id": "YqTl4pBM8YWe"
      }
    },
    {
      "cell_type": "code",
      "source": [
        "print (\"1: Calcular area y perimetro de un cuadrado \")\n",
        "lado = float(input(\"Digite el lado del cuadrado: \"))\n",
        "area = lado * lado\n",
        "perimetro = lado * 4\n",
        "print (\"El area del cuadrado es: \", area)\n",
        "print (\"El perimetro del cuadrado es: \", perimetro)\n"
      ],
      "metadata": {
        "colab": {
          "base_uri": "https://localhost:8080/"
        },
        "id": "QjC7HLj_8WQl",
        "outputId": "4fc16125-05e6-4e25-e298-97629589f389"
      },
      "execution_count": 1,
      "outputs": [
        {
          "output_type": "stream",
          "name": "stdout",
          "text": [
            "1: Calcular area y perimetro de un cuadrado \n",
            "Digite el lado del cuadrado: 4\n",
            "El area del cuadrado es:  16.0\n",
            "El perimetro del cuadrado es:  16.0\n"
          ]
        }
      ]
    },
    {
      "cell_type": "markdown",
      "source": [
        "2. Area y Perimetro de un triangulo"
      ],
      "metadata": {
        "id": "CkpGkCsK9C5K"
      }
    },
    {
      "cell_type": "code",
      "source": [
        "print(\"2: Calcular area y perimetro de un triangulo\")\n",
        "base = float(input(\"Digite la base del triangulo: \"))\n",
        "altura = float(input(\"Digite la altura del triangulo: \"))\n",
        "ladoT = float(input(\"Digite el lado del triangulo: \"))\n",
        "area = (base * altura) / 2\n",
        "perimetro = base + ladoT + ladoT\n",
        "print (\"El area del triangulo es: \", area)\n",
        "print (\"El perimetro del triangulo es: \", perimetro)\n"
      ],
      "metadata": {
        "colab": {
          "base_uri": "https://localhost:8080/"
        },
        "id": "U6kP0IUk9J5a",
        "outputId": "1f3c2e9a-d460-46a7-d742-dd6331440ad4"
      },
      "execution_count": 2,
      "outputs": [
        {
          "output_type": "stream",
          "name": "stdout",
          "text": [
            "2: Calcular area y perimetro de un triangulo\n",
            "Digite la base del triangulo: 4\n",
            "Digite la altura del triangulo: 10\n",
            "Digite el lado del triangulo: 5\n",
            "El area del triangulo es:  20.0\n",
            "El perimetro del triangulo es:  14.0\n"
          ]
        }
      ]
    },
    {
      "cell_type": "markdown",
      "source": [
        "3. Calcular area y perimetro de un octagono"
      ],
      "metadata": {
        "id": "4b_xkCxWCoYm"
      }
    },
    {
      "cell_type": "code",
      "source": [
        "print(\"3: Caluclar area y perimetro de un octagono\")\n",
        "lado = float(input(\"Digite el lado del octagono: \"))\n",
        "apotema = float(input(\"Digite el apotema del octagono: \"))\n",
        "perimetro = lado * 8\n",
        "area = (perimetro * apotema) / 2\n",
        "print (\"El perimetro del octagono es: \", perimetro)\n",
        "print (\"El area del octagono es: \", area)\n"
      ],
      "metadata": {
        "colab": {
          "base_uri": "https://localhost:8080/"
        },
        "id": "L115GVpVCtRJ",
        "outputId": "b7176541-10e5-4835-823f-8131525391fa"
      },
      "execution_count": 3,
      "outputs": [
        {
          "output_type": "stream",
          "name": "stdout",
          "text": [
            "3: Caluclar area y perimetro de un octagono\n",
            "Digite el lado del octagono: 6\n",
            "Digite el apotema del octagono: 4\n",
            "El perimetro del octagono es:  48.0\n",
            "El area del octagono es:  96.0\n"
          ]
        }
      ]
    },
    {
      "cell_type": "markdown",
      "source": [
        "4. Validar si un numero es par o impar"
      ],
      "metadata": {
        "id": "a8bZbDFmDyO6"
      }
    },
    {
      "cell_type": "code",
      "source": [
        "print(\"4: Validar si un numero es par o impar\")\n",
        "numero = int(input(\"Digite un numero: \"))\n",
        "if numero % 2 == 0:\n",
        "    print(\"El numero es par\")\n",
        "else:\n",
        "    print(\"El numero es impar\")"
      ],
      "metadata": {
        "colab": {
          "base_uri": "https://localhost:8080/"
        },
        "id": "yc-OCEMzD2oU",
        "outputId": "53b56b7b-a160-48fb-e3c3-367cbc30da7b"
      },
      "execution_count": 5,
      "outputs": [
        {
          "output_type": "stream",
          "name": "stdout",
          "text": [
            "4: Validar si un numero es par o impar\n",
            "Digite un numero: 2\n",
            "El numero es par\n"
          ]
        }
      ]
    }
  ]
}